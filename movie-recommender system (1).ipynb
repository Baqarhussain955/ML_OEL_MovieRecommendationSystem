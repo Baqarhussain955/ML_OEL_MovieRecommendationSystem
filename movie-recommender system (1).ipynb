{
 "cells": [
  {
   "cell_type": "code",
   "execution_count": 56,
   "id": "d2708e32-b13f-48bc-b9e7-90017d47933d",
   "metadata": {},
   "outputs": [],
   "source": [
    "import numpy as np\n",
    "import pandas as pd\n",
    "import matplotlib as plt\n",
    "import matplotlib.pyplot as plt\n",
    "import seaborn as sns\n",
    "import ast\n",
    "from sklearn.feature_extraction.text import CountVectorizer\n",
    "import nltk\n",
    "from nltk.stem.porter import PorterStemmer\n",
    "from sklearn.metrics.pairwise import cosine_similarity\n",
    "from sklearn.model_selection import train_test_split\n",
    "from sklearn.feature_extraction.text import TfidfVectorizer\n",
    "from sklearn.neighbors import NearestNeighbors\n",
    "from sklearn.decomposition import TruncatedSVD\n",
    "from sklearn.metrics import precision_score, recall_score, f1_score"
   ]
  },
  {
   "cell_type": "code",
   "execution_count": 57,
   "id": "6d2bf776-d5ab-4a09-8304-98fef7336681",
   "metadata": {},
   "outputs": [],
   "source": [
    "#DATA COLLECTION"
   ]
  },
  {
   "cell_type": "code",
   "execution_count": 58,
   "id": "3b5320de-7c63-416d-a924-b33747d8718d",
   "metadata": {},
   "outputs": [],
   "source": [
    "movie = pd.read_csv(\"movies.csv\", engine='python')\n",
    "credit = pd.read_csv(\"credits.csv\")\n",
    "movie1 = movie.merge(credit,on=\"title\")\n"
   ]
  },
  {
   "cell_type": "code",
   "execution_count": 59,
   "id": "db8fb2a4-4530-40ba-9edf-3188b70d4b21",
   "metadata": {},
   "outputs": [],
   "source": [
    "#DATA PREPROCESSING"
   ]
  },
  {
   "cell_type": "code",
   "execution_count": 60,
   "id": "ab719f4f-f276-49c5-b6f6-5f937e9afa3d",
   "metadata": {},
   "outputs": [
    {
     "data": {
      "text/html": [
       "<div>\n",
       "<style scoped>\n",
       "    .dataframe tbody tr th:only-of-type {\n",
       "        vertical-align: middle;\n",
       "    }\n",
       "\n",
       "    .dataframe tbody tr th {\n",
       "        vertical-align: top;\n",
       "    }\n",
       "\n",
       "    .dataframe thead th {\n",
       "        text-align: right;\n",
       "    }\n",
       "</style>\n",
       "<table border=\"1\" class=\"dataframe\">\n",
       "  <thead>\n",
       "    <tr style=\"text-align: right;\">\n",
       "      <th></th>\n",
       "      <th>budget</th>\n",
       "      <th>genres</th>\n",
       "      <th>homepage</th>\n",
       "      <th>id</th>\n",
       "      <th>keywords</th>\n",
       "      <th>original_language</th>\n",
       "      <th>original_title</th>\n",
       "      <th>overview</th>\n",
       "      <th>popularity</th>\n",
       "      <th>production_companies</th>\n",
       "      <th>...</th>\n",
       "      <th>runtime</th>\n",
       "      <th>spoken_languages</th>\n",
       "      <th>status</th>\n",
       "      <th>tagline</th>\n",
       "      <th>title</th>\n",
       "      <th>vote_average</th>\n",
       "      <th>vote_count</th>\n",
       "      <th>movie_id</th>\n",
       "      <th>cast</th>\n",
       "      <th>crew</th>\n",
       "    </tr>\n",
       "  </thead>\n",
       "  <tbody>\n",
       "    <tr>\n",
       "      <th>0</th>\n",
       "      <td>237000000</td>\n",
       "      <td>[{\"id\": 28, \"name\": \"Action\"}, {\"id\": 12, \"nam...</td>\n",
       "      <td>http://www.avatarmovie.com/</td>\n",
       "      <td>19995</td>\n",
       "      <td>[{\"id\": 1463, \"name\": \"culture clash\"}, {\"id\":...</td>\n",
       "      <td>en</td>\n",
       "      <td>Avatar</td>\n",
       "      <td>In the 22nd century, a paraplegic Marine is di...</td>\n",
       "      <td>150.437577</td>\n",
       "      <td>[{\"name\": \"Ingenious Film Partners\", \"id\": 289...</td>\n",
       "      <td>...</td>\n",
       "      <td>162.0</td>\n",
       "      <td>[{\"iso_639_1\": \"en\", \"name\": \"English\"}, {\"iso...</td>\n",
       "      <td>Released</td>\n",
       "      <td>Enter the World of Pandora.</td>\n",
       "      <td>Avatar</td>\n",
       "      <td>7.2</td>\n",
       "      <td>11800</td>\n",
       "      <td>19995</td>\n",
       "      <td>[{\"cast_id\": 242, \"character\": \"Jake Sully\", \"...</td>\n",
       "      <td>[{\"credit_id\": \"52fe48009251416c750aca23\", \"de...</td>\n",
       "    </tr>\n",
       "    <tr>\n",
       "      <th>1</th>\n",
       "      <td>300000000</td>\n",
       "      <td>[{\"id\": 12, \"name\": \"Adventure\"}, {\"id\": 14, \"...</td>\n",
       "      <td>http://disney.go.com/disneypictures/pirates/</td>\n",
       "      <td>285</td>\n",
       "      <td>[{\"id\": 270, \"name\": \"ocean\"}, {\"id\": 726, \"na...</td>\n",
       "      <td>en</td>\n",
       "      <td>Pirates of the Caribbean: At World's End</td>\n",
       "      <td>Captain Barbossa, long believed to be dead, ha...</td>\n",
       "      <td>139.082615</td>\n",
       "      <td>[{\"name\": \"Walt Disney Pictures\", \"id\": 2}, {\"...</td>\n",
       "      <td>...</td>\n",
       "      <td>169.0</td>\n",
       "      <td>[{\"iso_639_1\": \"en\", \"name\": \"English\"}]</td>\n",
       "      <td>Released</td>\n",
       "      <td>At the end of the world, the adventure begins.</td>\n",
       "      <td>Pirates of the Caribbean: At World's End</td>\n",
       "      <td>6.9</td>\n",
       "      <td>4500</td>\n",
       "      <td>285</td>\n",
       "      <td>[{\"cast_id\": 4, \"character\": \"Captain Jack Spa...</td>\n",
       "      <td>[{\"credit_id\": \"52fe4232c3a36847f800b579\", \"de...</td>\n",
       "    </tr>\n",
       "    <tr>\n",
       "      <th>2</th>\n",
       "      <td>245000000</td>\n",
       "      <td>[{\"id\": 28, \"name\": \"Action\"}, {\"id\": 12, \"nam...</td>\n",
       "      <td>http://www.sonypictures.com/movies/spectre/</td>\n",
       "      <td>206647</td>\n",
       "      <td>[{\"id\": 470, \"name\": \"spy\"}, {\"id\": 818, \"name...</td>\n",
       "      <td>en</td>\n",
       "      <td>Spectre</td>\n",
       "      <td>A cryptic message from Bond’s past sends him o...</td>\n",
       "      <td>107.376788</td>\n",
       "      <td>[{\"name\": \"Columbia Pictures\", \"id\": 5}, {\"nam...</td>\n",
       "      <td>...</td>\n",
       "      <td>148.0</td>\n",
       "      <td>[{\"iso_639_1\": \"fr\", \"name\": \"Fran\\u00e7ais\"},...</td>\n",
       "      <td>Released</td>\n",
       "      <td>A Plan No One Escapes</td>\n",
       "      <td>Spectre</td>\n",
       "      <td>6.3</td>\n",
       "      <td>4466</td>\n",
       "      <td>206647</td>\n",
       "      <td>[{\"cast_id\": 1, \"character\": \"James Bond\", \"cr...</td>\n",
       "      <td>[{\"credit_id\": \"54805967c3a36829b5002c41\", \"de...</td>\n",
       "    </tr>\n",
       "    <tr>\n",
       "      <th>3</th>\n",
       "      <td>250000000</td>\n",
       "      <td>[{\"id\": 28, \"name\": \"Action\"}, {\"id\": 80, \"nam...</td>\n",
       "      <td>http://www.thedarkknightrises.com/</td>\n",
       "      <td>49026</td>\n",
       "      <td>[{\"id\": 849, \"name\": \"dc comics\"}, {\"id\": 853,...</td>\n",
       "      <td>en</td>\n",
       "      <td>The Dark Knight Rises</td>\n",
       "      <td>Following the death of District Attorney Harve...</td>\n",
       "      <td>112.312950</td>\n",
       "      <td>[{\"name\": \"Legendary Pictures\", \"id\": 923}, {\"...</td>\n",
       "      <td>...</td>\n",
       "      <td>165.0</td>\n",
       "      <td>[{\"iso_639_1\": \"en\", \"name\": \"English\"}]</td>\n",
       "      <td>Released</td>\n",
       "      <td>The Legend Ends</td>\n",
       "      <td>The Dark Knight Rises</td>\n",
       "      <td>7.6</td>\n",
       "      <td>9106</td>\n",
       "      <td>49026</td>\n",
       "      <td>[{\"cast_id\": 2, \"character\": \"Bruce Wayne / Ba...</td>\n",
       "      <td>[{\"credit_id\": \"52fe4781c3a36847f81398c3\", \"de...</td>\n",
       "    </tr>\n",
       "    <tr>\n",
       "      <th>4</th>\n",
       "      <td>260000000</td>\n",
       "      <td>[{\"id\": 28, \"name\": \"Action\"}, {\"id\": 12, \"nam...</td>\n",
       "      <td>http://movies.disney.com/john-carter</td>\n",
       "      <td>49529</td>\n",
       "      <td>[{\"id\": 818, \"name\": \"based on novel\"}, {\"id\":...</td>\n",
       "      <td>en</td>\n",
       "      <td>John Carter</td>\n",
       "      <td>John Carter is a war-weary, former military ca...</td>\n",
       "      <td>43.926995</td>\n",
       "      <td>[{\"name\": \"Walt Disney Pictures\", \"id\": 2}]</td>\n",
       "      <td>...</td>\n",
       "      <td>132.0</td>\n",
       "      <td>[{\"iso_639_1\": \"en\", \"name\": \"English\"}]</td>\n",
       "      <td>Released</td>\n",
       "      <td>Lost in our world, found in another.</td>\n",
       "      <td>John Carter</td>\n",
       "      <td>6.1</td>\n",
       "      <td>2124</td>\n",
       "      <td>49529</td>\n",
       "      <td>[{\"cast_id\": 5, \"character\": \"John Carter\", \"c...</td>\n",
       "      <td>[{\"credit_id\": \"52fe479ac3a36847f813eaa3\", \"de...</td>\n",
       "    </tr>\n",
       "  </tbody>\n",
       "</table>\n",
       "<p>5 rows × 23 columns</p>\n",
       "</div>"
      ],
      "text/plain": [
       "      budget                                             genres  \\\n",
       "0  237000000  [{\"id\": 28, \"name\": \"Action\"}, {\"id\": 12, \"nam...   \n",
       "1  300000000  [{\"id\": 12, \"name\": \"Adventure\"}, {\"id\": 14, \"...   \n",
       "2  245000000  [{\"id\": 28, \"name\": \"Action\"}, {\"id\": 12, \"nam...   \n",
       "3  250000000  [{\"id\": 28, \"name\": \"Action\"}, {\"id\": 80, \"nam...   \n",
       "4  260000000  [{\"id\": 28, \"name\": \"Action\"}, {\"id\": 12, \"nam...   \n",
       "\n",
       "                                       homepage      id  \\\n",
       "0                   http://www.avatarmovie.com/   19995   \n",
       "1  http://disney.go.com/disneypictures/pirates/     285   \n",
       "2   http://www.sonypictures.com/movies/spectre/  206647   \n",
       "3            http://www.thedarkknightrises.com/   49026   \n",
       "4          http://movies.disney.com/john-carter   49529   \n",
       "\n",
       "                                            keywords original_language  \\\n",
       "0  [{\"id\": 1463, \"name\": \"culture clash\"}, {\"id\":...                en   \n",
       "1  [{\"id\": 270, \"name\": \"ocean\"}, {\"id\": 726, \"na...                en   \n",
       "2  [{\"id\": 470, \"name\": \"spy\"}, {\"id\": 818, \"name...                en   \n",
       "3  [{\"id\": 849, \"name\": \"dc comics\"}, {\"id\": 853,...                en   \n",
       "4  [{\"id\": 818, \"name\": \"based on novel\"}, {\"id\":...                en   \n",
       "\n",
       "                             original_title  \\\n",
       "0                                    Avatar   \n",
       "1  Pirates of the Caribbean: At World's End   \n",
       "2                                   Spectre   \n",
       "3                     The Dark Knight Rises   \n",
       "4                               John Carter   \n",
       "\n",
       "                                            overview  popularity  \\\n",
       "0  In the 22nd century, a paraplegic Marine is di...  150.437577   \n",
       "1  Captain Barbossa, long believed to be dead, ha...  139.082615   \n",
       "2  A cryptic message from Bond’s past sends him o...  107.376788   \n",
       "3  Following the death of District Attorney Harve...  112.312950   \n",
       "4  John Carter is a war-weary, former military ca...   43.926995   \n",
       "\n",
       "                                production_companies  ... runtime  \\\n",
       "0  [{\"name\": \"Ingenious Film Partners\", \"id\": 289...  ...   162.0   \n",
       "1  [{\"name\": \"Walt Disney Pictures\", \"id\": 2}, {\"...  ...   169.0   \n",
       "2  [{\"name\": \"Columbia Pictures\", \"id\": 5}, {\"nam...  ...   148.0   \n",
       "3  [{\"name\": \"Legendary Pictures\", \"id\": 923}, {\"...  ...   165.0   \n",
       "4        [{\"name\": \"Walt Disney Pictures\", \"id\": 2}]  ...   132.0   \n",
       "\n",
       "                                    spoken_languages    status  \\\n",
       "0  [{\"iso_639_1\": \"en\", \"name\": \"English\"}, {\"iso...  Released   \n",
       "1           [{\"iso_639_1\": \"en\", \"name\": \"English\"}]  Released   \n",
       "2  [{\"iso_639_1\": \"fr\", \"name\": \"Fran\\u00e7ais\"},...  Released   \n",
       "3           [{\"iso_639_1\": \"en\", \"name\": \"English\"}]  Released   \n",
       "4           [{\"iso_639_1\": \"en\", \"name\": \"English\"}]  Released   \n",
       "\n",
       "                                          tagline  \\\n",
       "0                     Enter the World of Pandora.   \n",
       "1  At the end of the world, the adventure begins.   \n",
       "2                           A Plan No One Escapes   \n",
       "3                                 The Legend Ends   \n",
       "4            Lost in our world, found in another.   \n",
       "\n",
       "                                      title vote_average vote_count movie_id  \\\n",
       "0                                    Avatar          7.2      11800    19995   \n",
       "1  Pirates of the Caribbean: At World's End          6.9       4500      285   \n",
       "2                                   Spectre          6.3       4466   206647   \n",
       "3                     The Dark Knight Rises          7.6       9106    49026   \n",
       "4                               John Carter          6.1       2124    49529   \n",
       "\n",
       "                                                cast  \\\n",
       "0  [{\"cast_id\": 242, \"character\": \"Jake Sully\", \"...   \n",
       "1  [{\"cast_id\": 4, \"character\": \"Captain Jack Spa...   \n",
       "2  [{\"cast_id\": 1, \"character\": \"James Bond\", \"cr...   \n",
       "3  [{\"cast_id\": 2, \"character\": \"Bruce Wayne / Ba...   \n",
       "4  [{\"cast_id\": 5, \"character\": \"John Carter\", \"c...   \n",
       "\n",
       "                                                crew  \n",
       "0  [{\"credit_id\": \"52fe48009251416c750aca23\", \"de...  \n",
       "1  [{\"credit_id\": \"52fe4232c3a36847f800b579\", \"de...  \n",
       "2  [{\"credit_id\": \"54805967c3a36829b5002c41\", \"de...  \n",
       "3  [{\"credit_id\": \"52fe4781c3a36847f81398c3\", \"de...  \n",
       "4  [{\"credit_id\": \"52fe479ac3a36847f813eaa3\", \"de...  \n",
       "\n",
       "[5 rows x 23 columns]"
      ]
     },
     "execution_count": 60,
     "metadata": {},
     "output_type": "execute_result"
    }
   ],
   "source": [
    "movie1.head()"
   ]
  },
  {
   "cell_type": "code",
   "execution_count": 61,
   "id": "6f2e6bca-1c0f-455a-9e30-8d21beef3fb0",
   "metadata": {},
   "outputs": [
    {
     "name": "stdout",
     "output_type": "stream",
     "text": [
      "Summary Statistics:\n"
     ]
    },
    {
     "data": {
      "text/html": [
       "<div>\n",
       "<style scoped>\n",
       "    .dataframe tbody tr th:only-of-type {\n",
       "        vertical-align: middle;\n",
       "    }\n",
       "\n",
       "    .dataframe tbody tr th {\n",
       "        vertical-align: top;\n",
       "    }\n",
       "\n",
       "    .dataframe thead th {\n",
       "        text-align: right;\n",
       "    }\n",
       "</style>\n",
       "<table border=\"1\" class=\"dataframe\">\n",
       "  <thead>\n",
       "    <tr style=\"text-align: right;\">\n",
       "      <th></th>\n",
       "      <th>budget</th>\n",
       "      <th>id</th>\n",
       "      <th>popularity</th>\n",
       "      <th>revenue</th>\n",
       "      <th>runtime</th>\n",
       "      <th>vote_average</th>\n",
       "      <th>vote_count</th>\n",
       "      <th>movie_id</th>\n",
       "    </tr>\n",
       "  </thead>\n",
       "  <tbody>\n",
       "    <tr>\n",
       "      <th>count</th>\n",
       "      <td>4.808000e+03</td>\n",
       "      <td>4808.000000</td>\n",
       "      <td>4808.000000</td>\n",
       "      <td>4.808000e+03</td>\n",
       "      <td>4806.000000</td>\n",
       "      <td>4808.000000</td>\n",
       "      <td>4808.000000</td>\n",
       "      <td>4808.000000</td>\n",
       "    </tr>\n",
       "    <tr>\n",
       "      <th>mean</th>\n",
       "      <td>2.903311e+07</td>\n",
       "      <td>57124.277246</td>\n",
       "      <td>21.495870</td>\n",
       "      <td>8.229222e+07</td>\n",
       "      <td>106.884519</td>\n",
       "      <td>6.092824</td>\n",
       "      <td>690.473170</td>\n",
       "      <td>57124.277246</td>\n",
       "    </tr>\n",
       "    <tr>\n",
       "      <th>std</th>\n",
       "      <td>4.070730e+07</td>\n",
       "      <td>88662.218132</td>\n",
       "      <td>31.805337</td>\n",
       "      <td>1.628505e+08</td>\n",
       "      <td>22.604342</td>\n",
       "      <td>1.193919</td>\n",
       "      <td>1234.276466</td>\n",
       "      <td>88662.218132</td>\n",
       "    </tr>\n",
       "    <tr>\n",
       "      <th>min</th>\n",
       "      <td>0.000000e+00</td>\n",
       "      <td>5.000000</td>\n",
       "      <td>0.000000</td>\n",
       "      <td>0.000000e+00</td>\n",
       "      <td>0.000000</td>\n",
       "      <td>0.000000</td>\n",
       "      <td>0.000000</td>\n",
       "      <td>5.000000</td>\n",
       "    </tr>\n",
       "    <tr>\n",
       "      <th>25%</th>\n",
       "      <td>7.792500e+05</td>\n",
       "      <td>9011.250000</td>\n",
       "      <td>4.668490</td>\n",
       "      <td>0.000000e+00</td>\n",
       "      <td>94.000000</td>\n",
       "      <td>5.600000</td>\n",
       "      <td>54.000000</td>\n",
       "      <td>9011.250000</td>\n",
       "    </tr>\n",
       "    <tr>\n",
       "      <th>50%</th>\n",
       "      <td>1.500000e+07</td>\n",
       "      <td>14623.500000</td>\n",
       "      <td>12.924931</td>\n",
       "      <td>1.917498e+07</td>\n",
       "      <td>103.500000</td>\n",
       "      <td>6.200000</td>\n",
       "      <td>235.500000</td>\n",
       "      <td>14623.500000</td>\n",
       "    </tr>\n",
       "    <tr>\n",
       "      <th>75%</th>\n",
       "      <td>4.000000e+07</td>\n",
       "      <td>58602.750000</td>\n",
       "      <td>28.350628</td>\n",
       "      <td>9.291518e+07</td>\n",
       "      <td>118.000000</td>\n",
       "      <td>6.800000</td>\n",
       "      <td>737.250000</td>\n",
       "      <td>58602.750000</td>\n",
       "    </tr>\n",
       "    <tr>\n",
       "      <th>max</th>\n",
       "      <td>3.800000e+08</td>\n",
       "      <td>459488.000000</td>\n",
       "      <td>875.581305</td>\n",
       "      <td>2.787965e+09</td>\n",
       "      <td>338.000000</td>\n",
       "      <td>10.000000</td>\n",
       "      <td>13752.000000</td>\n",
       "      <td>459488.000000</td>\n",
       "    </tr>\n",
       "  </tbody>\n",
       "</table>\n",
       "</div>"
      ],
      "text/plain": [
       "             budget             id   popularity       revenue      runtime  \\\n",
       "count  4.808000e+03    4808.000000  4808.000000  4.808000e+03  4806.000000   \n",
       "mean   2.903311e+07   57124.277246    21.495870  8.229222e+07   106.884519   \n",
       "std    4.070730e+07   88662.218132    31.805337  1.628505e+08    22.604342   \n",
       "min    0.000000e+00       5.000000     0.000000  0.000000e+00     0.000000   \n",
       "25%    7.792500e+05    9011.250000     4.668490  0.000000e+00    94.000000   \n",
       "50%    1.500000e+07   14623.500000    12.924931  1.917498e+07   103.500000   \n",
       "75%    4.000000e+07   58602.750000    28.350628  9.291518e+07   118.000000   \n",
       "max    3.800000e+08  459488.000000   875.581305  2.787965e+09   338.000000   \n",
       "\n",
       "       vote_average    vote_count       movie_id  \n",
       "count   4808.000000   4808.000000    4808.000000  \n",
       "mean       6.092824    690.473170   57124.277246  \n",
       "std        1.193919   1234.276466   88662.218132  \n",
       "min        0.000000      0.000000       5.000000  \n",
       "25%        5.600000     54.000000    9011.250000  \n",
       "50%        6.200000    235.500000   14623.500000  \n",
       "75%        6.800000    737.250000   58602.750000  \n",
       "max       10.000000  13752.000000  459488.000000  "
      ]
     },
     "execution_count": 61,
     "metadata": {},
     "output_type": "execute_result"
    }
   ],
   "source": [
    "print(\"Summary Statistics:\")\n",
    "movie1.describe()"
   ]
  },
  {
   "cell_type": "code",
   "execution_count": 62,
   "id": "d0a65bf5-28e7-49f4-ab2c-29b156980584",
   "metadata": {},
   "outputs": [
    {
     "name": "stdout",
     "output_type": "stream",
     "text": [
      "Dataset Information:\n",
      "<class 'pandas.core.frame.DataFrame'>\n",
      "RangeIndex: 4808 entries, 0 to 4807\n",
      "Data columns (total 23 columns):\n",
      " #   Column                Non-Null Count  Dtype  \n",
      "---  ------                --------------  -----  \n",
      " 0   budget                4808 non-null   int64  \n",
      " 1   genres                4808 non-null   object \n",
      " 2   homepage              1713 non-null   object \n",
      " 3   id                    4808 non-null   int64  \n",
      " 4   keywords              4808 non-null   object \n",
      " 5   original_language     4808 non-null   object \n",
      " 6   original_title        4808 non-null   object \n",
      " 7   overview              4805 non-null   object \n",
      " 8   popularity            4808 non-null   float64\n",
      " 9   production_companies  4808 non-null   object \n",
      " 10  production_countries  4808 non-null   object \n",
      " 11  release_date          4807 non-null   object \n",
      " 12  revenue               4808 non-null   int64  \n",
      " 13  runtime               4806 non-null   float64\n",
      " 14  spoken_languages      4808 non-null   object \n",
      " 15  status                4808 non-null   object \n",
      " 16  tagline               3964 non-null   object \n",
      " 17  title                 4808 non-null   object \n",
      " 18  vote_average          4808 non-null   float64\n",
      " 19  vote_count            4808 non-null   int64  \n",
      " 20  movie_id              4808 non-null   int64  \n",
      " 21  cast                  4808 non-null   object \n",
      " 22  crew                  4808 non-null   object \n",
      "dtypes: float64(3), int64(5), object(15)\n",
      "memory usage: 864.1+ KB\n"
     ]
    }
   ],
   "source": [
    "print(\"Dataset Information:\")\n",
    "movie1.info()"
   ]
  },
  {
   "cell_type": "code",
   "execution_count": 63,
   "id": "35ebec97-d80a-41f0-a5a6-8b2f6dd7f152",
   "metadata": {},
   "outputs": [
    {
     "data": {
      "text/plain": [
       "Index(['budget', 'genres', 'homepage', 'id', 'keywords', 'original_language',\n",
       "       'original_title', 'overview', 'popularity', 'production_companies',\n",
       "       'production_countries', 'release_date', 'revenue', 'runtime',\n",
       "       'spoken_languages', 'status', 'tagline', 'title', 'vote_average',\n",
       "       'vote_count', 'movie_id', 'cast', 'crew'],\n",
       "      dtype='object')"
      ]
     },
     "execution_count": 63,
     "metadata": {},
     "output_type": "execute_result"
    }
   ],
   "source": [
    "movie1.columns"
   ]
  },
  {
   "cell_type": "code",
   "execution_count": 64,
   "id": "6ef3c090-64af-4e83-8f75-6cef5775685c",
   "metadata": {},
   "outputs": [],
   "source": [
    "#EXPLORATORY DATA ANALYSIS(EDA)"
   ]
  },
  {
   "cell_type": "code",
   "execution_count": 65,
   "id": "e6ba9617-ef7f-4025-80f4-a429880c3c79",
   "metadata": {},
   "outputs": [
    {
     "data": {
      "image/png": "[encoded data removed]",
      "text/plain": [
       "<Figure size 2000x1000 with 9 Axes>"
      ]
     },
     "metadata": {},
     "output_type": "display_data"
    }
   ],
   "source": [
    "movie1.hist(figsize=(20, 10), bins=20)\n",
    "plt.tight_layout()  # Adjust layout for better readability\n",
    "plt.show()"
   ]
  },
  {
   "cell_type": "code",
   "execution_count": 66,
   "id": "b2d8ea08-b6ce-4cb7-9129-62084f45e505",
   "metadata": {},
   "outputs": [
    {
     "data": {
      "image/png": "[encoded data removed]",
      "text/plain": [
       "<Figure size 640x480 with 1 Axes>"
      ]
     },
     "metadata": {},
     "output_type": "display_data"
    }
   ],
   "source": [
    "plt.scatter(movie1['popularity'], movie1['vote_average'])\n",
    "plt.xlabel('Popularity')\n",
    "plt.ylabel('Vote Average')\n",
    "plt.title('Scatter Plot of Popularity vs. Vote Average')\n",
    "plt.show()"
   ]
  },
  {
   "cell_type": "code",
   "execution_count": 67,
   "id": "66859c0a-5d73-446d-ac25-8daea6f97277",
   "metadata": {},
   "outputs": [
    {
     "data": {
      "image/png": "[encoded data removed]",
      "text/plain": [
       "<Figure size 500x300 with 1 Axes>"
      ]
     },
     "metadata": {},
     "output_type": "display_data"
    }
   ],
   "source": [
    "# Example: Plotting count of movies by their IDs\n",
    "plt.figure(figsize=(5, 3))\n",
    "sns.countplot(x=movie1['id'])  \n",
    "plt.title('Count of Movies by ID')\n",
    "plt.xlabel('Movie ID')\n",
    "plt.ylabel('Count')\n",
    "plt.show()\n",
    "\n"
   ]
  },
  {
   "cell_type": "code",
   "execution_count": 68,
   "id": "10b303b0-d795-458e-a088-7448b91d48b9",
   "metadata": {},
   "outputs": [
    {
     "data": {
      "image/png": "[encoded data removed]",
      "text/plain": [
       "<Figure size 600x400 with 2 Axes>"
      ]
     },
     "metadata": {},
     "output_type": "display_data"
    }
   ],
   "source": [
    "numerical_columns = movie1.select_dtypes(include=['int64', 'float64']).columns\n",
    "movies_numeric = movie1[numerical_columns]\n",
    "corr_matrix = movies_numeric.corr()\n",
    "plt.figure(figsize=(6, 4))\n",
    "sns.heatmap(corr_matrix, annot=True, cmap='coolwarm')\n",
    "plt.title('Correlation Matrix Heatmap')\n",
    "plt.show()"
   ]
  },
  {
   "cell_type": "code",
   "execution_count": 69,
   "id": "aa8e0b98-2e22-4b9e-9573-11fb8e48cefc",
   "metadata": {},
   "outputs": [],
   "source": [
    "movies = movie1[[\"id\",\"title\",\"genres\",\"overview\",\"keywords\",\"cast\",\"crew\"]]"
   ]
  },
  {
   "cell_type": "code",
   "execution_count": 70,
   "id": "c468ddca-1c0d-4bac-b569-74d1a808494b",
   "metadata": {},
   "outputs": [
    {
     "name": "stdout",
     "output_type": "stream",
     "text": [
      "Details of shrink dataset\n"
     ]
    }
   ],
   "source": [
    "print(\"Details of shrink dataset\")"
   ]
  },
  {
   "cell_type": "code",
   "execution_count": 71,
   "id": "7606aee5-5338-46af-99a8-a87a1660d568",
   "metadata": {},
   "outputs": [
    {
     "name": "stdout",
     "output_type": "stream",
     "text": [
      "<class 'pandas.core.frame.DataFrame'>\n",
      "RangeIndex: 4808 entries, 0 to 4807\n",
      "Data columns (total 7 columns):\n",
      " #   Column    Non-Null Count  Dtype \n",
      "---  ------    --------------  ----- \n",
      " 0   id        4808 non-null   int64 \n",
      " 1   title     4808 non-null   object\n",
      " 2   genres    4808 non-null   object\n",
      " 3   overview  4805 non-null   object\n",
      " 4   keywords  4808 non-null   object\n",
      " 5   cast      4808 non-null   object\n",
      " 6   crew      4808 non-null   object\n",
      "dtypes: int64(1), object(6)\n",
      "memory usage: 263.1+ KB\n"
     ]
    }
   ],
   "source": [
    "movies.info()"
   ]
  },
  {
   "cell_type": "code",
   "execution_count": 72,
   "id": "ab884654-4593-4407-b913-4d060a570986",
   "metadata": {},
   "outputs": [
    {
     "name": "stdout",
     "output_type": "stream",
     "text": [
      "Missing values: \n"
     ]
    },
    {
     "data": {
      "text/plain": [
       "id          0\n",
       "title       0\n",
       "genres      0\n",
       "overview    3\n",
       "keywords    0\n",
       "cast        0\n",
       "crew        0\n",
       "dtype: int64"
      ]
     },
     "execution_count": 72,
     "metadata": {},
     "output_type": "execute_result"
    }
   ],
   "source": [
    "print(\"Missing values: \")\n",
    "movies.isnull().sum()"
   ]
  },
  {
   "cell_type": "code",
   "execution_count": 73,
   "id": "cf89715c-4046-4e8e-8884-27d89a3f216a",
   "metadata": {},
   "outputs": [
    {
     "name": "stderr",
     "output_type": "stream",
     "text": [
      "C:\\Users\\aania\\AppData\\Local\\Temp\\ipykernel_14532\\3786870272.py:1: SettingWithCopyWarning: \n",
      "A value is trying to be set on a copy of a slice from a DataFrame\n",
      "\n",
      "See the caveats in the documentation: https://pandas.pydata.org/pandas-docs/stable/user_guide/indexing.html#returning-a-view-versus-a-copy\n",
      "  movies.dropna(inplace=True)\n"
     ]
    }
   ],
   "source": [
    "movies.dropna(inplace=True)"
   ]
  },
  {
   "cell_type": "code",
   "execution_count": 74,
   "id": "9e187e67-83c4-4676-af86-45d92f5cb2d8",
   "metadata": {},
   "outputs": [
    {
     "name": "stdout",
     "output_type": "stream",
     "text": [
      "Number of duplicate rows: 0\n"
     ]
    }
   ],
   "source": [
    "duplicate_count = movies.duplicated().sum()\n",
    "print(f\"Number of duplicate rows: {duplicate_count}\")\n"
   ]
  },
  {
   "cell_type": "code",
   "execution_count": 75,
   "id": "4af1b674-0cee-4598-afe1-a0850f2133fc",
   "metadata": {},
   "outputs": [
    {
     "data": {
      "text/plain": [
       "id          4799\n",
       "title       4796\n",
       "genres      1175\n",
       "overview    4799\n",
       "keywords    4219\n",
       "cast        4758\n",
       "crew        4772\n",
       "dtype: int64"
      ]
     },
     "execution_count": 75,
     "metadata": {},
     "output_type": "execute_result"
    }
   ],
   "source": [
    "movies.nunique()"
   ]
  },
  {
   "cell_type": "code",
   "execution_count": 76,
   "id": "f8999716-492b-455b-80d9-1ceb3d083d63",
   "metadata": {},
   "outputs": [
    {
     "data": {
      "text/plain": [
       "(4805, 7)"
      ]
     },
     "execution_count": 76,
     "metadata": {},
     "output_type": "execute_result"
    }
   ],
   "source": [
    "movies.shape"
   ]
  },
  {
   "cell_type": "code",
   "execution_count": 77,
   "id": "2efb2ffa-ab61-4ce1-92e4-38666a8a2066",
   "metadata": {},
   "outputs": [
    {
     "data": {
      "text/plain": [
       "'[{\"id\": 28, \"name\": \"Action\"}, {\"id\": 12, \"name\": \"Adventure\"}, {\"id\": 14, \"name\": \"Fantasy\"}, {\"id\": 878, \"name\": \"Science Fiction\"}]'"
      ]
     },
     "execution_count": 77,
     "metadata": {},
     "output_type": "execute_result"
    }
   ],
   "source": [
    "movies.iloc[0].genres\n",
    "#movies[\"genres\"][0]\n"
   ]
  },
  {
   "cell_type": "code",
   "execution_count": 78,
   "id": "fcffe2e1-36f6-4c3c-8264-bce3e0b1b7b8",
   "metadata": {},
   "outputs": [],
   "source": [
    "def convert(obj):\n",
    "    l=[]\n",
    "    for i in ast.literal_eval(obj):\n",
    "        l.append(i[\"name\"])\n",
    "    return l\n"
   ]
  },
  {
   "cell_type": "code",
   "execution_count": 79,
   "id": "61c60b16-3c01-49c0-880d-1f5b66eab449",
   "metadata": {
    "scrolled": true
   },
   "outputs": [
    {
     "name": "stderr",
     "output_type": "stream",
     "text": [
      "C:\\Users\\aania\\AppData\\Local\\Temp\\ipykernel_14532\\2864300504.py:1: SettingWithCopyWarning: \n",
      "A value is trying to be set on a copy of a slice from a DataFrame.\n",
      "Try using .loc[row_indexer,col_indexer] = value instead\n",
      "\n",
      "See the caveats in the documentation: https://pandas.pydata.org/pandas-docs/stable/user_guide/indexing.html#returning-a-view-versus-a-copy\n",
      "  movies[\"genres\"] = movies[\"genres\"].apply(convert)\n"
     ]
    }
   ],
   "source": [
    "movies[\"genres\"] = movies[\"genres\"].apply(convert)\n"
   ]
  },
  {
   "cell_type": "code",
   "execution_count": 80,
   "id": "aeb811d2-cbcf-4ac1-9b0d-e12a8c66c58e",
   "metadata": {},
   "outputs": [
    {
     "name": "stderr",
     "output_type": "stream",
     "text": [
      "C:\\Users\\aania\\AppData\\Local\\Temp\\ipykernel_14532\\2573823842.py:1: SettingWithCopyWarning: \n",
      "A value is trying to be set on a copy of a slice from a DataFrame.\n",
      "Try using .loc[row_indexer,col_indexer] = value instead\n",
      "\n",
      "See the caveats in the documentation: https://pandas.pydata.org/pandas-docs/stable/user_guide/indexing.html#returning-a-view-versus-a-copy\n",
      "  movies[\"keywords\"] = movies[\"keywords\"].apply(convert)\n"
     ]
    }
   ],
   "source": [
    "movies[\"keywords\"] = movies[\"keywords\"].apply(convert)"
   ]
  },
  {
   "cell_type": "code",
   "execution_count": 81,
   "id": "000d5599-2f4c-44e4-9bce-4dcfa400c199",
   "metadata": {},
   "outputs": [],
   "source": [
    "def convert3(obj):\n",
    "    counter=0\n",
    "    l=[]\n",
    "    for i in ast.literal_eval(obj):\n",
    "        if counter!=3:\n",
    "            l.append(i[\"name\"])\n",
    "            counter+=1\n",
    "        else:\n",
    "            break       \n",
    "    return l\n",
    " "
   ]
  },
  {
   "cell_type": "code",
   "execution_count": 82,
   "id": "5930b386-4880-4099-858e-80459fab018e",
   "metadata": {},
   "outputs": [
    {
     "name": "stderr",
     "output_type": "stream",
     "text": [
      "C:\\Users\\aania\\AppData\\Local\\Temp\\ipykernel_14532\\3190583956.py:1: SettingWithCopyWarning: \n",
      "A value is trying to be set on a copy of a slice from a DataFrame.\n",
      "Try using .loc[row_indexer,col_indexer] = value instead\n",
      "\n",
      "See the caveats in the documentation: https://pandas.pydata.org/pandas-docs/stable/user_guide/indexing.html#returning-a-view-versus-a-copy\n",
      "  movies[\"cast\"] =movies[\"cast\"].apply(convert3)\n"
     ]
    }
   ],
   "source": [
    "movies[\"cast\"] =movies[\"cast\"].apply(convert3)"
   ]
  },
  {
   "cell_type": "code",
   "execution_count": 83,
   "id": "be1251e9-b6cd-4624-9824-c38c9732e4b2",
   "metadata": {},
   "outputs": [],
   "source": [
    "def search_director(obj):\n",
    "    l = []\n",
    "    for i in ast.literal_eval(obj):\n",
    "        if i[\"job\"] == \"Director\":\n",
    "            l.append(i[\"name\"])\n",
    "            break\n",
    "    return l\n"
   ]
  },
  {
   "cell_type": "code",
   "execution_count": 84,
   "id": "6c840fbc-4922-4f58-a040-8b8b37a54c7c",
   "metadata": {},
   "outputs": [
    {
     "name": "stderr",
     "output_type": "stream",
     "text": [
      "C:\\Users\\aania\\AppData\\Local\\Temp\\ipykernel_14532\\3218032618.py:1: SettingWithCopyWarning: \n",
      "A value is trying to be set on a copy of a slice from a DataFrame.\n",
      "Try using .loc[row_indexer,col_indexer] = value instead\n",
      "\n",
      "See the caveats in the documentation: https://pandas.pydata.org/pandas-docs/stable/user_guide/indexing.html#returning-a-view-versus-a-copy\n",
      "  movies[\"crew\"]=movies[\"crew\"].apply(search_director)\n"
     ]
    }
   ],
   "source": [
    "movies[\"crew\"]=movies[\"crew\"].apply(search_director)"
   ]
  },
  {
   "cell_type": "code",
   "execution_count": 85,
   "id": "f7c76e02-3743-4559-b4ca-5f612bc54f72",
   "metadata": {},
   "outputs": [],
   "source": [
    "# Split overview into a list of words\n",
    "movies.loc[:, \"overview\"] = movies[\"overview\"].apply(lambda x: x.split() if isinstance(x, str) else x)\n",
    "#phle bh hochuka tha jiski wja se wo list me convert higya tha split only apply to str "
   ]
  },
  {
   "cell_type": "code",
   "execution_count": 86,
   "id": "966995da-47a5-4529-9e3f-388854c715ad",
   "metadata": {},
   "outputs": [
    {
     "data": {
      "text/html": [
       "<div>\n",
       "<style scoped>\n",
       "    .dataframe tbody tr th:only-of-type {\n",
       "        vertical-align: middle;\n",
       "    }\n",
       "\n",
       "    .dataframe tbody tr th {\n",
       "        vertical-align: top;\n",
       "    }\n",
       "\n",
       "    .dataframe thead th {\n",
       "        text-align: right;\n",
       "    }\n",
       "</style>\n",
       "<table border=\"1\" class=\"dataframe\">\n",
       "  <thead>\n",
       "    <tr style=\"text-align: right;\">\n",
       "      <th></th>\n",
       "      <th>id</th>\n",
       "      <th>title</th>\n",
       "      <th>genres</th>\n",
       "      <th>overview</th>\n",
       "      <th>keywords</th>\n",
       "      <th>cast</th>\n",
       "      <th>crew</th>\n",
       "    </tr>\n",
       "  </thead>\n",
       "  <tbody>\n",
       "    <tr>\n",
       "      <th>0</th>\n",
       "      <td>19995</td>\n",
       "      <td>Avatar</td>\n",
       "      <td>[Action, Adventure, Fantasy, Science Fiction]</td>\n",
       "      <td>[In, the, 22nd, century,, a, paraplegic, Marin...</td>\n",
       "      <td>[culture clash, future, space war, space colon...</td>\n",
       "      <td>[Sam Worthington, Zoe Saldana, Sigourney Weaver]</td>\n",
       "      <td>[James Cameron]</td>\n",
       "    </tr>\n",
       "    <tr>\n",
       "      <th>1</th>\n",
       "      <td>285</td>\n",
       "      <td>Pirates of the Caribbean: At World's End</td>\n",
       "      <td>[Adventure, Fantasy, Action]</td>\n",
       "      <td>[Captain, Barbossa,, long, believed, to, be, d...</td>\n",
       "      <td>[ocean, drug abuse, exotic island, east india ...</td>\n",
       "      <td>[Johnny Depp, Orlando Bloom, Keira Knightley]</td>\n",
       "      <td>[Gore Verbinski]</td>\n",
       "    </tr>\n",
       "    <tr>\n",
       "      <th>2</th>\n",
       "      <td>206647</td>\n",
       "      <td>Spectre</td>\n",
       "      <td>[Action, Adventure, Crime]</td>\n",
       "      <td>[A, cryptic, message, from, Bond’s, past, send...</td>\n",
       "      <td>[spy, based on novel, secret agent, sequel, mi...</td>\n",
       "      <td>[Daniel Craig, Christoph Waltz, Léa Seydoux]</td>\n",
       "      <td>[Sam Mendes]</td>\n",
       "    </tr>\n",
       "    <tr>\n",
       "      <th>3</th>\n",
       "      <td>49026</td>\n",
       "      <td>The Dark Knight Rises</td>\n",
       "      <td>[Action, Crime, Drama, Thriller]</td>\n",
       "      <td>[Following, the, death, of, District, Attorney...</td>\n",
       "      <td>[dc comics, crime fighter, terrorist, secret i...</td>\n",
       "      <td>[Christian Bale, Michael Caine, Gary Oldman]</td>\n",
       "      <td>[Christopher Nolan]</td>\n",
       "    </tr>\n",
       "    <tr>\n",
       "      <th>4</th>\n",
       "      <td>49529</td>\n",
       "      <td>John Carter</td>\n",
       "      <td>[Action, Adventure, Science Fiction]</td>\n",
       "      <td>[John, Carter, is, a, war-weary,, former, mili...</td>\n",
       "      <td>[based on novel, mars, medallion, space travel...</td>\n",
       "      <td>[Taylor Kitsch, Lynn Collins, Samantha Morton]</td>\n",
       "      <td>[Andrew Stanton]</td>\n",
       "    </tr>\n",
       "  </tbody>\n",
       "</table>\n",
       "</div>"
      ],
      "text/plain": [
       "       id                                     title  \\\n",
       "0   19995                                    Avatar   \n",
       "1     285  Pirates of the Caribbean: At World's End   \n",
       "2  206647                                   Spectre   \n",
       "3   49026                     The Dark Knight Rises   \n",
       "4   49529                               John Carter   \n",
       "\n",
       "                                          genres  \\\n",
       "0  [Action, Adventure, Fantasy, Science Fiction]   \n",
       "1                   [Adventure, Fantasy, Action]   \n",
       "2                     [Action, Adventure, Crime]   \n",
       "3               [Action, Crime, Drama, Thriller]   \n",
       "4           [Action, Adventure, Science Fiction]   \n",
       "\n",
       "                                            overview  \\\n",
       "0  [In, the, 22nd, century,, a, paraplegic, Marin...   \n",
       "1  [Captain, Barbossa,, long, believed, to, be, d...   \n",
       "2  [A, cryptic, message, from, Bond’s, past, send...   \n",
       "3  [Following, the, death, of, District, Attorney...   \n",
       "4  [John, Carter, is, a, war-weary,, former, mili...   \n",
       "\n",
       "                                            keywords  \\\n",
       "0  [culture clash, future, space war, space colon...   \n",
       "1  [ocean, drug abuse, exotic island, east india ...   \n",
       "2  [spy, based on novel, secret agent, sequel, mi...   \n",
       "3  [dc comics, crime fighter, terrorist, secret i...   \n",
       "4  [based on novel, mars, medallion, space travel...   \n",
       "\n",
       "                                               cast                 crew  \n",
       "0  [Sam Worthington, Zoe Saldana, Sigourney Weaver]      [James Cameron]  \n",
       "1     [Johnny Depp, Orlando Bloom, Keira Knightley]     [Gore Verbinski]  \n",
       "2      [Daniel Craig, Christoph Waltz, Léa Seydoux]         [Sam Mendes]  \n",
       "3      [Christian Bale, Michael Caine, Gary Oldman]  [Christopher Nolan]  \n",
       "4    [Taylor Kitsch, Lynn Collins, Samantha Morton]     [Andrew Stanton]  "
      ]
     },
     "execution_count": 86,
     "metadata": {},
     "output_type": "execute_result"
    }
   ],
   "source": [
    "movies.head()"
   ]
  },
  {
   "cell_type": "code",
   "execution_count": 87,
   "id": "a7b391ec-fb41-4c91-89fe-e99e4fd25784",
   "metadata": {},
   "outputs": [],
   "source": [
    "# #in overview we remove spaces becs if we merge to wo bko alg alg krdega,jb tags bnega\n",
    "movies.loc[:, \"genres\"] = movies[\"genres\"].apply(lambda x: [i.replace(\" \", \"\") for i in x])\n",
    "movies.loc[:, \"keywords\"] = movies[\"keywords\"].apply(lambda x: [i.replace(\" \", \"\") for i in x])\n",
    "movies.loc[:, \"cast\"] = movies[\"cast\"].apply(lambda x: [i.replace(\" \", \"\") for i in x])\n",
    "movies.loc[:, \"crew\"] = movies[\"crew\"].apply(lambda x: [i.replace(\" \", \"\") for i in x])\n"
   ]
  },
  {
   "cell_type": "code",
   "execution_count": 88,
   "id": "cb999cf6-26d6-4fbd-b115-019353ed6762",
   "metadata": {},
   "outputs": [],
   "source": [
    "#FEATURE ENGINEERING"
   ]
  },
  {
   "cell_type": "code",
   "execution_count": 89,
   "id": "d4747e53-d0f4-4fa9-a98a-ef974ff1cb7f",
   "metadata": {},
   "outputs": [
    {
     "name": "stderr",
     "output_type": "stream",
     "text": [
      "C:\\Users\\aania\\AppData\\Local\\Temp\\ipykernel_14532\\444750771.py:1: SettingWithCopyWarning: \n",
      "A value is trying to be set on a copy of a slice from a DataFrame.\n",
      "Try using .loc[row_indexer,col_indexer] = value instead\n",
      "\n",
      "See the caveats in the documentation: https://pandas.pydata.org/pandas-docs/stable/user_guide/indexing.html#returning-a-view-versus-a-copy\n",
      "  movies[\"tags\"] = movies[\"overview\"]+ movies[\"keywords\"]+ movies[\"cast\"]+ movies[\"crew\"]+ movies[\"genres\"]\n"
     ]
    }
   ],
   "source": [
    "movies[\"tags\"] = movies[\"overview\"]+ movies[\"keywords\"]+ movies[\"cast\"]+ movies[\"crew\"]+ movies[\"genres\"]"
   ]
  },
  {
   "cell_type": "code",
   "execution_count": 90,
   "id": "501fc116-ab07-4edd-8441-27095f0ee80d",
   "metadata": {},
   "outputs": [
    {
     "name": "stderr",
     "output_type": "stream",
     "text": [
      "C:\\Users\\aania\\AppData\\Local\\Temp\\ipykernel_14532\\2675118463.py:2: SettingWithCopyWarning: \n",
      "A value is trying to be set on a copy of a slice from a DataFrame.\n",
      "Try using .loc[row_indexer,col_indexer] = value instead\n",
      "\n",
      "See the caveats in the documentation: https://pandas.pydata.org/pandas-docs/stable/user_guide/indexing.html#returning-a-view-versus-a-copy\n",
      "  new_df[\"tags\"] = new_df[\"tags\"].apply(lambda x: \" \".join(x) if isinstance(x, list) else \"\")\n",
      "C:\\Users\\aania\\AppData\\Local\\Temp\\ipykernel_14532\\2675118463.py:3: SettingWithCopyWarning: \n",
      "A value is trying to be set on a copy of a slice from a DataFrame.\n",
      "Try using .loc[row_indexer,col_indexer] = value instead\n",
      "\n",
      "See the caveats in the documentation: https://pandas.pydata.org/pandas-docs/stable/user_guide/indexing.html#returning-a-view-versus-a-copy\n",
      "  new_df[\"tags\"] = new_df[\"tags\"].apply(lambda x: x.lower())\n"
     ]
    }
   ],
   "source": [
    "new_df = movies[[\"id\", \"title\", \"tags\"]]\n",
    "new_df[\"tags\"] = new_df[\"tags\"].apply(lambda x: \" \".join(x) if isinstance(x, list) else \"\")\n",
    "new_df[\"tags\"] = new_df[\"tags\"].apply(lambda x: x.lower())\n"
   ]
  },
  {
   "cell_type": "code",
   "execution_count": 91,
   "id": "16b13e89-2a1a-4001-80d2-14caac617024",
   "metadata": {},
   "outputs": [],
   "source": [
    "ps = PorterStemmer()"
   ]
  },
  {
   "cell_type": "code",
   "execution_count": 92,
   "id": "d802925f-cf63-4aae-84d8-db671bd790c8",
   "metadata": {},
   "outputs": [],
   "source": [
    "def stem(text):\n",
    "    y=[]\n",
    "    for i in text.split():\n",
    "        y.append(ps.stem(i))\n",
    "    return \" \".join(y)    "
   ]
  },
  {
   "cell_type": "code",
   "execution_count": 93,
   "id": "bfbea21f-4f49-4159-814c-72dc43dc40af",
   "metadata": {},
   "outputs": [
    {
     "name": "stderr",
     "output_type": "stream",
     "text": [
      "C:\\Users\\aania\\AppData\\Local\\Temp\\ipykernel_14532\\825579503.py:1: SettingWithCopyWarning: \n",
      "A value is trying to be set on a copy of a slice from a DataFrame.\n",
      "Try using .loc[row_indexer,col_indexer] = value instead\n",
      "\n",
      "See the caveats in the documentation: https://pandas.pydata.org/pandas-docs/stable/user_guide/indexing.html#returning-a-view-versus-a-copy\n",
      "  new_df[\"tags\"] = new_df[\"tags\"].apply(stem)\n"
     ]
    }
   ],
   "source": [
    "new_df[\"tags\"] = new_df[\"tags\"].apply(stem)"
   ]
  },
  {
   "cell_type": "code",
   "execution_count": 94,
   "id": "c5ace397-74ee-4d97-84b5-672a11283d0d",
   "metadata": {},
   "outputs": [],
   "source": [
    "#COUNT VECTORIZER:CONVERTING TEXT DATA INTO STRUCTURED NUMERICAL DATA"
   ]
  },
  {
   "cell_type": "code",
   "execution_count": 95,
   "id": "8739f384-7912-42c6-ab43-f7bca81923ac",
   "metadata": {},
   "outputs": [
    {
     "name": "stdout",
     "output_type": "stream",
     "text": [
      "Number of features: 5000\n",
      "Sample feature names: ['000' '007' '10' '100' '11' '12' '13' '14' '15' '16' '17' '17th' '18'\n",
      " '18th' '18thcenturi' '19' '1910' '1920' '1930' '1940']\n"
     ]
    }
   ],
   "source": [
    "cv = CountVectorizer(max_features=5000,stop_words=\"english\")\n",
    "vectors = cv.fit_transform(new_df[\"tags\"]).toarray()\n",
    "vectors.shape\n",
    "feature_names = cv.get_feature_names_out()\n",
    "\n",
    "# Print the number of features and sample feature names\n",
    "print(f\"Number of features: {len(feature_names)}\")\n",
    "print(\"Sample feature names:\", feature_names[:20])  # Print first 20 feature names"
   ]
  },
  {
   "cell_type": "code",
   "execution_count": 96,
   "id": "ee71aa11-1017-4c47-b546-c27dfad688da",
   "metadata": {},
   "outputs": [],
   "source": [
    "#MODEL BUILDING & MODEL EVALUATION"
   ]
  },
  {
   "cell_type": "code",
   "execution_count": 97,
   "id": "e01f01f1-b11f-41da-bb54-57d407e8fbd8",
   "metadata": {},
   "outputs": [
    {
     "name": "stdout",
     "output_type": "stream",
     "text": [
      "Movies Recommended by Cosine Similarity Algorithm:\n",
      "Aliens vs Predator: Requiem\n",
      "Aliens\n",
      "Falcon Rising\n",
      "Independence Day\n",
      "Titan A.E.\n",
      "\n",
      "Movies Recommended by KNN Similarity Algorithm:\n",
      "Aliens vs Predator: Requiem\n",
      "Aliens\n",
      "Falcon Rising\n",
      "Independence Day\n",
      "Titan A.E.\n",
      "\n",
      "Movies Recommended by SVD Similarity Algorithm:\n",
      "U-571\n",
      "Jupiter Ascending\n",
      "The In Crowd\n",
      "Premium Rush\n",
      "The Purge: Anarchy\n",
      "\n",
      "Cosine Similarity - Precision: 1.0, Recall: 1.0, F1-score: 1.0\n",
      "KNN - Precision: 0.9925, Recall: 1.0, F1-score: 0.9962358845671268\n",
      "SVD - Precision: 0.005625, Recall: 1.0, F1-score: 0.011187072715972654\n"
     ]
    }
   ],
   "source": [
    "# Count Vectorizer\n",
    "cv = CountVectorizer(max_features=5000, stop_words='english')\n",
    "count_matrix = cv.fit_transform(new_df['tags'])\n",
    "# Cosine similarity matrix using Count Vectorizer\n",
    "cs_matrix = cosine_similarity(count_matrix)\n",
    "\n",
    "\n",
    "\n",
    "svd = TruncatedSVD(n_components=2, random_state=0)\n",
    "matrix_svd = svd.fit_transform(count_matrix)\n",
    "matrix_svd\n",
    "\n",
    "# Recommendation function\n",
    "def recommend(movie, cs_matrix, movie_data):\n",
    "    try:\n",
    "        index = movie_data[movie_data['title'] == movie].index[0]\n",
    "        dist = sorted(list(enumerate(cs_matrix[index])), reverse=True, key=lambda x: x[1])\n",
    "        recommended_titles = [movie_data.iloc[i[0]].title for i in dist[1:6]]  # Excluding the movie itself\n",
    "        return recommended_titles\n",
    "    except IndexError:\n",
    "        return []\n",
    "recommendations = recommend(\"Avatar\",cs_matrix, new_df)\n",
    "print(\"Movies Recommended by Cosine Similarity Algorithm:\")\n",
    "for movie in recommendations:\n",
    "    print(movie)\n",
    "print()    \n",
    "    \n",
    "# Split data into train and test sets\n",
    "train_data, test_data = train_test_split(new_df, test_size=0.2, random_state=0)\n",
    "\n",
    "# Generate recommendations for test set movies using Cosine Similarity\n",
    "recommendations_cs = {}\n",
    "for movie in test_data['title']:\n",
    "    recommendations_cs[movie] = recommend(movie, cs_matrix, new_df)\n",
    "\n",
    "# Ground truth for evaluation (mock data)\n",
    "ground_truth = {movie: recommend(movie, cs_matrix, new_df)[:5] for movie in test_data['title']}\n",
    "\n",
    "# KNN model\n",
    "model_knn = NearestNeighbors(metric='cosine', algorithm='brute')\n",
    "model_knn.fit(count_matrix)\n",
    "\n",
    "\n",
    "def knn_recommend(movie_title, model_knn, movie_data, count_matrix, n_recommendations=5):\n",
    "    try:\n",
    "        movie_index = movie_data[movie_data['title'] == movie_title].index[0]\n",
    "        movie_count_matrix = count_matrix[movie_index]\n",
    "        distances, indices = model_knn.kneighbors(movie_count_matrix, n_neighbors=n_recommendations + 1)\n",
    "        recommendations = [movie_data.iloc[i]['title'] for i in indices.flatten()[1:]]\n",
    "        return recommendations\n",
    "    except IndexError:\n",
    "        return []\n",
    "rec_movie = knn_recommend(\"Avatar\", model_knn, new_df, count_matrix) \n",
    "print(\"Movies Recommended by KNN Similarity Algorithm:\")\n",
    "for movie in rec_movie:\n",
    "    print(movie)\n",
    "print()    \n",
    "# Generate recommendations using KNN\n",
    "recommendations_knn = {movie: knn_recommend(movie, model_knn, new_df, count_matrix) for movie in test_data['title']}\n",
    "\n",
    "# SVD model\n",
    "def svd_recommend(movie_title, matrix_svd, movie_data, n_recommendations=5):\n",
    "    try:\n",
    "        movie_index = movie_data[movie_data['title'] == movie_title].index[0]\n",
    "        movie_svd_vector = matrix_svd[movie_index]\n",
    "        similarity_scores = cosine_similarity([movie_svd_vector], matrix_svd)[0]\n",
    "        similar_movies = movie_data.iloc[np.argsort(similarity_scores)[-n_recommendations-1:-1]].title.values\n",
    "        return similar_movies\n",
    "    except IndexError:\n",
    "        return []\n",
    "recommendation=svd_recommend(\"Avatar\", matrix_svd, new_df)\n",
    "print(\"Movies Recommended by SVD Similarity Algorithm:\")\n",
    "for movie in recommendation:\n",
    "    print(movie)\n",
    "print()    \n",
    "# Generate recommendations using SVD\n",
    "recommendations_svd = {movie: svd_recommend(movie, matrix_svd, new_df) for movie in test_data['title']}\n",
    "\n",
    "\n",
    "# Evaluate recommendations\n",
    "def evaluate_recommendations(ground_truth, recommendations):\n",
    "    all_y_true = []\n",
    "    all_y_pred = []\n",
    "    for movie, recs in recommendations.items():\n",
    "        if movie in ground_truth:\n",
    "            y_true = [1 if rec in ground_truth[movie] else 0 for rec in recs]\n",
    "            y_pred = [1] * len(recs)\n",
    "            all_y_true.extend(y_true)\n",
    "            all_y_pred.extend(y_pred)\n",
    "    precision = precision_score(all_y_true, all_y_pred, zero_division=0)\n",
    "    recall = recall_score(all_y_true, all_y_pred, zero_division=0)\n",
    "    f1 = f1_score(all_y_true, all_y_pred, zero_division=0)\n",
    "    return precision, recall, f1\n",
    "\n",
    "# Calculate precision, recall, and F1-score for each algorithm\n",
    "precision_cs, recall_cs, f1_cs = evaluate_recommendations(ground_truth, recommendations_cs)\n",
    "precision_knn, recall_knn, f1_knn = evaluate_recommendations(ground_truth, recommendations_knn)\n",
    "precision_svd, recall_svd, f1_svd = evaluate_recommendations(ground_truth, recommendations_svd)\n",
    "\n",
    "# Print results\n",
    "print(f\"Cosine Similarity - Precision: {precision_cs}, Recall: {recall_cs}, F1-score: {f1_cs}\")\n",
    "print(f\"KNN - Precision: {precision_knn}, Recall: {recall_knn}, F1-score: {f1_knn}\")\n",
    "print(f\"SVD - Precision: {precision_svd}, Recall: {recall_svd}, F1-score: {f1_svd}\")\n"
   ]
  },
  {
   "cell_type": "code",
   "execution_count": 103,
   "id": "f21f74b3-419c-4ae1-b2cd-63f935d8ea18",
   "metadata": {},
   "outputs": [],
   "source": [
    "#Conclusion\n",
    "#COSINE SIMILARITY achieves perfect scores in precision, recall, and F1-score, indicating that it is the most effective algorithm\n",
    "#for your movie recommendation system in this context.\n",
    "#KNN also performs well, with a high precision and F1-score, but slightly lower than Cosine Similarity.\n",
    "#SVD performs poorly, especially in terms of precision and F1-score, making it the least effective algorithm for this task."
   ]
  },
  {
   "cell_type": "code",
   "execution_count": 98,
   "id": "70e3b530-5c61-4c8b-8b9b-6eca7234c49f",
   "metadata": {},
   "outputs": [
    {
     "name": "stdout",
     "output_type": "stream",
     "text": [
      "[[1.         0.08346223 0.0860309  ... 0.04499213 0.         0.        ]\n",
      " [0.08346223 1.         0.06063391 ... 0.02378257 0.         0.02615329]\n",
      " [0.0860309  0.06063391 1.         ... 0.02451452 0.         0.        ]\n",
      " ...\n",
      " [0.04499213 0.02378257 0.02451452 ... 1.         0.03962144 0.04229549]\n",
      " [0.         0.         0.         ... 0.03962144 1.         0.08714204]\n",
      " [0.         0.02615329 0.         ... 0.04229549 0.08714204 1.        ]]\n"
     ]
    }
   ],
   "source": [
    "# #Calculate cosine similarity matrix without using sklearns cosine_simmilarity\n",
    "cvv = CountVectorizer(max_features=5000, stop_words='english')\n",
    "count_matrixx = cvv.fit_transform(new_df['tags']).toarray()\n",
    "dot_product = np.dot(count_matrixx, count_matrixx.T)\n",
    "norms= np.linalg.norm(count_matrixx,axis=1)\n",
    "epsilon = 1e-10\n",
    "cs_matrixx = dot_product / (np.outer(norms,norms) + epsilon)\n",
    "cs_matrixx=np.clip(cs_matrixx,-1,1)\n",
    "print(cs_matrixx)\n",
    "\n",
    "\n",
    "\n"
   ]
  },
  {
   "cell_type": "code",
   "execution_count": 99,
   "id": "81ed41af-102a-4129-89ac-5340d2cf8d9a",
   "metadata": {},
   "outputs": [],
   "source": [
    "import pickle\n"
   ]
  },
  {
   "cell_type": "code",
   "execution_count": 100,
   "id": "d266868e-832b-40c2-a535-d27a98a8bcd6",
   "metadata": {},
   "outputs": [],
   "source": [
    "pickle.dump(new_df,open(\"movies.pkl\",\"wb\"))"
   ]
  },
  {
   "cell_type": "code",
   "execution_count": 101,
   "id": "3eec6bbb-bd81-4ab5-916a-773da7fc0a4e",
   "metadata": {},
   "outputs": [],
   "source": [
    "pickle.dump(new_df.to_dict(),open(\"movies_dict.pkl\",\"wb\"))"
   ]
  },
  {
   "cell_type": "code",
   "execution_count": 102,
   "id": "51379585-3343-4e2f-9f1e-941d97f4c7db",
   "metadata": {},
   "outputs": [],
   "source": [
    "pickle.dump(cs_matrix,open(\"similarity.pkl\",\"wb\"))"
   ]
  },
  {
   "cell_type": "code",
   "execution_count": null,
   "id": "a58c1886-eabf-429c-9fbc-671e4a335ac2",
   "metadata": {},
   "outputs": [],
   "source": []
  },
  {
   "cell_type": "code",
   "execution_count": null,
   "id": "c4f35c7c-59d2-4f50-982b-a8e91c3422a3",
   "metadata": {},
   "outputs": [],
   "source": []
  },
  {
   "cell_type": "code",
   "execution_count": null,
   "id": "7520a232-2bfa-49da-a529-a7748afe2706",
   "metadata": {},
   "outputs": [],
   "source": []
  }
 ],
 "metadata": {
  "kernelspec": {
   "display_name": "Python 3 (ipykernel)",
   "language": "python",
   "name": "python3"
  },
  "language_info": {
   "codemirror_mode": {
    "name": "ipython",
    "version": 3
   },
   "file_extension": ".py",
   "mimetype": "text/x-python",
   "name": "python",
   "nbconvert_exporter": "python",
   "pygments_lexer": "ipython3",
   "version": "3.10.2"
  }
 },
 "nbformat": 4,
 "nbformat_minor": 5
}
